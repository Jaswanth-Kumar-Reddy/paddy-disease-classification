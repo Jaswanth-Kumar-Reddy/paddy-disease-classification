{
 "cells": [
  {
   "cell_type": "code",
   "execution_count": 2,
   "metadata": {},
   "outputs": [],
   "source": [
    "from tqdm import tqdm  # For progress bars\n",
    "import torch.backends.cudnn as cudnn\n",
    "import os\n",
    "import time\n",
    "import copy\n",
    "import numpy as np\n",
    "import pandas as pd\n",
    "import matplotlib.pyplot as plt\n",
    "import torch\n",
    "import torch.nn as nn\n",
    "import torch.optim as optim\n",
    "from torch.optim import lr_scheduler\n",
    "from torch.utils.data import Dataset, DataLoader, random_split\n",
    "from torchvision import datasets,transforms, models\n",
    "from sklearn.metrics import accuracy_score, precision_score, recall_score\n",
    "import timm\n",
    "from mydatasets import LeafDiseaseDataset\n",
    "torch.backends.cudnn.benchmark = True\n",
    "torch.set_default_dtype(torch.float32)\n",
    "if torch.backends.mps.is_available():\n",
    "    device = torch.device(\"mps\")       # Since My system is Macbook(does not support CUDA) , so I am using MPS\n",
    "else:\n",
    "    device = torch.device(\"cpu\")\n",
    "# Adding multiprocessing initialization to prevent crashes or unexpected behaviour during training \n",
    "if __name__ == '__main__':\n",
    "    # For macOS,we need to use 'spawn' instead of 'fork'\n",
    "    import multiprocessing as mp\n",
    "    mp.set_start_method('spawn', force=True)"
   ]
  },
  {
   "cell_type": "code",
   "execution_count": 3,
   "metadata": {},
   "outputs": [],
   "source": [
    "# Data Pre Processing Stage\n",
    "from PIL import Image\n",
    "# Defining transforms for training and validation\n",
    "train_transforms = transforms.Compose([\n",
    "    transforms.Resize((224, 224)),\n",
    "    # Using Data Augumentation which helps in mitigating overfitting issues and often lead to more robust and reliable result\n",
    "    transforms.RandomHorizontalFlip(),\n",
    "    transforms.RandomRotation(20),\n",
    "    transforms.ToTensor(),  # Converts the image from a PIL Image or NumPy array into a PyTorch tensor(shape = [2, 224, 224])\n",
    "    transforms.Normalize(mean=[0.485, 0.456, 0.406],  # Using ImageNet normalization\n",
    "        std=[0.229, 0.224, 0.225])\n",
    "])\n",
    "\n",
    "val_transforms = transforms.Compose([\n",
    "    transforms.Resize((224, 224)),\n",
    "    transforms.ToTensor(),\n",
    "    transforms.Normalize(mean=[0.485, 0.456, 0.406], std=[0.229, 0.224, 0.225])\n",
    "])"
   ]
  },
  {
   "cell_type": "code",
   "execution_count": 4,
   "metadata": {},
   "outputs": [],
   "source": [
    "def combine_datasets(csv_files, root_dirs, transform):\n",
    "    datasets = []\n",
    "    for csv_file, root_dir in zip(csv_files, root_dirs):\n",
    "        dataset = LeafDiseaseDataset(csv_file, root_dir, transform=transform)\n",
    "        datasets.append(dataset)\n",
    "    # Concatenate datasets (this uses the torch.utils.data.ConcatDataset)\n",
    "    from torch.utils.data import ConcatDataset\n",
    "    combined_dataset = ConcatDataset(datasets)\n",
    "    return combined_dataset\n",
    "\n",
    "# I have used relative paths for csv files and you replace it (if required)\n",
    "csv_files = [\n",
    "    \"paddy_disease_train.csv\",\n",
    "    \"rice_leaf_disease_images.csv\"\n",
    "]\n",
    "# List of corresponding image directories. I have used relative paths for dataset directories and you replace it (if required)\n",
    "root_dirs = [\n",
    "    \"paddy_train_images\",\n",
    "    \"Rice Leaf Disease Images\"\n",
    "]\n",
    "# Create the combined dataset using the training transforms\n",
    "combined_train_dataset = combine_datasets(csv_files, root_dirs, transform=train_transforms)\n",
    "train_size = int(0.8 * len(combined_train_dataset))\n",
    "val_size = len(combined_train_dataset) - train_size\n",
    "train_dataset, val_dataset = random_split(combined_train_dataset, [train_size, val_size])\n",
    "batch_size = 64  # Increased for faster training\n",
    "num_workers = 0  # Enable parallel data loading\n",
    "train_loader = DataLoader(\n",
    "    train_dataset, \n",
    "    batch_size=batch_size, \n",
    "    shuffle=True, \n",
    "    num_workers=num_workers,\n",
    "    pin_memory=True\n",
    ")\n",
    "val_loader = DataLoader(\n",
    "    val_dataset, \n",
    "    batch_size=batch_size, \n",
    "    shuffle=False, \n",
    "    num_workers=num_workers,\n",
    "    pin_memory=True\n",
    ")"
   ]
  },
  {
   "cell_type": "code",
   "execution_count": 5,
   "metadata": {},
   "outputs": [
    {
     "name": "stdout",
     "output_type": "stream",
     "text": [
      "Number of classes: 10\n"
     ]
    }
   ],
   "source": [
    "def get_cnn_model(num_classes, feature_extract=True):\n",
    "    # Use EfficientNet-B7 (tf_efficientnet_b7_ns) as the state-of-the-art CNN model\n",
    "    model = timm.create_model('tf_efficientnet_b7_ns', pretrained=True)\n",
    "    if feature_extract:\n",
    "        # Freeze all parameters first\n",
    "        for param in model.parameters():\n",
    "            param.requires_grad = False\n",
    "        # Replace the classifier head with a new layer for our 10 classes\n",
    "        num_ftrs = model.classifier.in_features\n",
    "        model.classifier = nn.Linear(num_ftrs, num_classes)\n",
    "        # Unfreeze only the classifier head parameters(i.e Final/Output Layer(s)) for training\n",
    "        for param in model.classifier.parameters():\n",
    "            param.requires_grad = True\n",
    "    else:\n",
    "        num_ftrs = model.classifier.in_features\n",
    "        model.classifier = nn.Linear(num_ftrs, num_classes)\n",
    "    return model.to(device)\n",
    "\n",
    "def get_transformer_model(num_classes, feature_extract=True):\n",
    "    # Use a larger Vision Transformer model (ViT Base) for higher accuracy\n",
    "    model = timm.create_model(\"vit_base_patch16_224\", pretrained=True)\n",
    "    if feature_extract:\n",
    "        for param in model.parameters():\n",
    "            param.requires_grad = False\n",
    "    # Adjust the classifier head to output num_classes logits\n",
    "    if hasattr(model, \"head\"):\n",
    "        in_features = model.head.in_features\n",
    "        model.head = nn.Linear(in_features, num_classes)\n",
    "    else:\n",
    "        in_features = model.get_classifier().in_features\n",
    "        model.reset_classifier(num_classes)\n",
    "    return model.to(device)\n",
    "    \n",
    "num_classes = len(combined_train_dataset.datasets[0].class_to_idx)\n",
    "print(f\"Number of classes: {num_classes}\")\n"
   ]
  },
  {
   "cell_type": "code",
   "execution_count": 6,
   "metadata": {},
   "outputs": [],
   "source": [
    "\"\"\" Args:\n",
    "        model: The PyTorch model.\n",
    "        dataloaders: A dict containing 'train' and 'val' DataLoaders.\n",
    "        criterion: Loss function.\n",
    "        optimizer: Optimizer.\n",
    "        scheduler: Learning rate scheduler.\n",
    "        num_epochs: Number of training epochs.\n",
    "        patience: The number of epochs to wait for an improvement in validation loss before early stopping is triggered.\"\"\"\n",
    "class Trainer:\n",
    "    def __init__(self, model, dataloaders, criterion, optimizer, scheduler, num_epochs=25,patience=5):\n",
    "        self.model = model\n",
    "        self.dataloaders = dataloaders\n",
    "        self.criterion = criterion\n",
    "        self.optimizer = optimizer\n",
    "        self.scheduler = scheduler\n",
    "        self.num_epochs = num_epochs\n",
    "        self.best_model_wts = copy.deepcopy(model.state_dict())\n",
    "        self.best_acc = 0.0\n",
    "        self.train_loss_history = []\n",
    "        self.val_loss_history = []\n",
    "        self.train_acc_history = []\n",
    "        self.val_acc_history = []\n",
    "        self.patience = patience\n",
    "        self.counter = 0\n",
    "        self.best_loss = float('inf')\n",
    "\n",
    "    def train_model(self):\n",
    "        since = time.time()\n",
    "        torch.cuda.empty_cache()  # Clear cache before training\n",
    "        \n",
    "        for epoch in range(self.num_epochs):\n",
    "            print(f\"Epoch {epoch+1}/{self.num_epochs}\")\n",
    "            print(\"-\" * 10)\n",
    "            #In each epoch it undergoes training phase and validation phase\n",
    "            for phase in ['train', 'val']:\n",
    "                if phase == 'train':\n",
    "                    self.model.train()  # We set our model to training mode\n",
    "                else:\n",
    "                    self.model.eval()\n",
    "                    \n",
    "                running_loss = 0.0\n",
    "                running_corrects = 0\n",
    "                \n",
    "                # Use tqdm for progress bar\n",
    "                for inputs, labels in tqdm(self.dataloaders[phase]):\n",
    "                    inputs = inputs.to(device)\n",
    "                    labels = labels.to(device)\n",
    "                    \n",
    "                    self.optimizer.zero_grad()\n",
    "                    \n",
    "                    with torch.set_grad_enabled(phase == 'train'):\n",
    "                        outputs = self.model(inputs)  #Forward Pass\n",
    "                        _, preds = torch.max(outputs, 1)  \n",
    "                        loss = self.criterion(outputs, labels)  \n",
    "                        \n",
    "                        if phase == 'train':\n",
    "                            loss.backward() # Back propogation\n",
    "                            self.optimizer.step()  #Updating model weights using optimizer\n",
    "                    \n",
    "                    running_loss += loss.item() * inputs.size(0)\n",
    "                    running_corrects += torch.sum(preds == labels.data)\n",
    "                \n",
    "                epoch_loss = running_loss / len(self.dataloaders[phase].dataset)\n",
    "                epoch_acc = running_corrects.float() / len(self.dataloaders[phase].dataset)\n",
    "                \n",
    "                print(f\"{phase} Loss: {epoch_loss:.4f} Acc: {epoch_acc:.4f}\")\n",
    "                \n",
    "                if phase == 'train':\n",
    "                    self.train_loss_history.append(epoch_loss)\n",
    "                    self.train_acc_history.append(epoch_acc.item())\n",
    "                    self.scheduler.step()\n",
    "                else:\n",
    "                    self.val_loss_history.append(epoch_loss)\n",
    "                    self.val_acc_history.append(epoch_acc.item())\n",
    "                    if epoch_acc > self.best_acc:\n",
    "                        self.best_acc = epoch_acc\n",
    "                        self.best_model_wts = copy.deepcopy(self.model.state_dict())\n",
    "            \n",
    "            print()\n",
    "        \n",
    "        time_elapsed = time.time() - since\n",
    "        print(f\"Training complete in {time_elapsed // 60:.0f}m {time_elapsed % 60:.0f}s\")\n",
    "        print(f\"Best val Acc: {self.best_acc:.4f}\")\n",
    "        \n",
    "        self.model.load_state_dict(self.best_model_wts)\n",
    "        return self.model\n",
    "    def evaluate(self, dataloader):\n",
    "        self.model.eval()\n",
    "        all_preds = []\n",
    "        all_labels = []\n",
    "        \n",
    "        with torch.no_grad():\n",
    "            for inputs, labels in dataloader:\n",
    "                inputs = inputs.to(device)\n",
    "                labels = labels.to(device)\n",
    "                outputs = self.model(inputs)\n",
    "                _, preds = torch.max(outputs, 1)\n",
    "                all_preds.extend(preds.cpu().numpy())\n",
    "                all_labels.extend(labels.cpu().numpy())\n",
    "        acc = accuracy_score(all_labels, all_preds)\n",
    "        precision = precision_score(all_labels, all_preds, average='weighted', zero_division=0)\n",
    "        recall = recall_score(all_labels, all_preds, average='weighted', zero_division=0)\n",
    "        return acc, precision, recall"
   ]
  },
  {
   "cell_type": "code",
   "execution_count": 8,
   "metadata": {},
   "outputs": [],
   "source": [
    "\n",
    "def run_experiment(model_type='cnn', num_epochs=10, learning_rate=2e-3):\n",
    "    if model_type == 'cnn':\n",
    "        model = get_cnn_model(num_classes=num_classes, feature_extract=True)\n",
    "        print(\"Training SOTA CNN model...\")\n",
    "    elif model_type == 'transformer':\n",
    "        model = get_transformer_model(num_classes=num_classes, feature_extract=True)\n",
    "        print(\"Training SOTA Transformer model...\")\n",
    "    else:\n",
    "        raise ValueError(\"Unsupported model type. Choose 'cnn' or 'transformer'.\")\n",
    "    \n",
    "    criterion = nn.CrossEntropyLoss()   # Loss Function is Cross Entropy\n",
    "    # Here I am using ADAMW which has decoupled weight decay term in updating equation which is for faster convergence and More Generalization\n",
    "    optimizer = optim.AdamW(filter(lambda p: p.requires_grad, model.parameters()), \n",
    "                           lr=learning_rate, \n",
    "                           weight_decay=0.01)  \n",
    "    \n",
    "    # Using OneCycleLR for better convergence\n",
    "    scheduler = lr_scheduler.OneCycleLR(\n",
    "        optimizer,\n",
    "        max_lr=learning_rate,\n",
    "        epochs=num_epochs,\n",
    "        steps_per_epoch=len(train_loader)\n",
    "    )\n",
    "    \n",
    "    dataloaders = {'train': train_loader, 'val': val_loader}\n",
    "    trainer = Trainer(model, dataloaders, criterion, optimizer, scheduler, num_epochs=num_epochs)\n",
    "    best_model = trainer.train_model()\n",
    "    \n",
    "    # Evaluate and plot results\n",
    "    acc, precision, recall = trainer.evaluate(val_loader)\n",
    "    print(f\"Validation Metrics for {model_type.upper()}:\")\n",
    "    print(f\"Accuracy: {acc:.4f}, Precision: {precision:.4f}, Recall: {recall:.4f}\")\n",
    "    # Plot training history\n",
    "    epochs = range(1, num_epochs+1)\n",
    "    plt.figure(figsize=(12,5))\n",
    "    plt.subplot(1,2,1)\n",
    "    plt.plot(epochs, trainer.train_loss_history, label='Train Loss')\n",
    "    plt.plot(epochs, trainer.val_loss_history, label='Val Loss')\n",
    "    plt.xlabel('Epoch')\n",
    "    plt.ylabel('Loss')\n",
    "    plt.title(f'{model_type.upper()} Loss')\n",
    "    plt.legend()\n",
    "    plt.subplot(1,2,2)\n",
    "    plt.plot(epochs, trainer.train_acc_history, label='Train Acc')\n",
    "    plt.plot(epochs, trainer.val_acc_history, label='Val Acc')\n",
    "    plt.xlabel('Epoch')\n",
    "    plt.ylabel('Accuracy')\n",
    "    plt.title(f'{model_type.upper()} Accuracy')\n",
    "    plt.legend()\n",
    "    plt.tight_layout()\n",
    "    plt.show()\n",
    "    return best_model, trainer"
   ]
  },
  {
   "cell_type": "code",
   "execution_count": 7,
   "metadata": {},
   "outputs": [
    {
     "name": "stderr",
     "output_type": "stream",
     "text": [
      "/Library/Frameworks/Python.framework/Versions/3.11/lib/python3.11/site-packages/timm/models/_factory.py:126: UserWarning: Mapping deprecated model name tf_efficientnet_b7_ns to current tf_efficientnet_b7.ns_jft_in1k.\n",
      "  model = create_fn(\n"
     ]
    },
    {
     "name": "stdout",
     "output_type": "stream",
     "text": [
      "Training SOTA CNN model...\n",
      "Epoch 1/15\n",
      "----------\n"
     ]
    },
    {
     "name": "stderr",
     "output_type": "stream",
     "text": [
      "100%|██████████| 205/205 [08:56<00:00,  2.62s/it]\n"
     ]
    },
    {
     "name": "stdout",
     "output_type": "stream",
     "text": [
      "train Loss: 2.1002 Acc: 0.3006\n"
     ]
    },
    {
     "name": "stderr",
     "output_type": "stream",
     "text": [
      "100%|██████████| 52/52 [01:56<00:00,  2.25s/it]\n"
     ]
    },
    {
     "name": "stdout",
     "output_type": "stream",
     "text": [
      "val Loss: 1.9723 Acc: 0.3892\n",
      "\n",
      "Epoch 2/15\n",
      "----------\n"
     ]
    },
    {
     "name": "stderr",
     "output_type": "stream",
     "text": [
      "100%|██████████| 205/205 [09:00<00:00,  2.64s/it]\n"
     ]
    },
    {
     "name": "stdout",
     "output_type": "stream",
     "text": [
      "train Loss: 1.8704 Acc: 0.4377\n"
     ]
    },
    {
     "name": "stderr",
     "output_type": "stream",
     "text": [
      "100%|██████████| 52/52 [01:56<00:00,  2.25s/it]\n"
     ]
    },
    {
     "name": "stdout",
     "output_type": "stream",
     "text": [
      "val Loss: 1.8282 Acc: 0.4529\n",
      "\n",
      "Epoch 3/15\n",
      "----------\n"
     ]
    },
    {
     "name": "stderr",
     "output_type": "stream",
     "text": [
      "100%|██████████| 205/205 [09:06<00:00,  2.67s/it]\n"
     ]
    },
    {
     "name": "stdout",
     "output_type": "stream",
     "text": [
      "train Loss: 1.7245 Acc: 0.4863\n"
     ]
    },
    {
     "name": "stderr",
     "output_type": "stream",
     "text": [
      "100%|██████████| 52/52 [01:59<00:00,  2.30s/it]\n"
     ]
    },
    {
     "name": "stdout",
     "output_type": "stream",
     "text": [
      "val Loss: 1.7141 Acc: 0.4884\n",
      "\n",
      "Epoch 4/15\n",
      "----------\n"
     ]
    },
    {
     "name": "stderr",
     "output_type": "stream",
     "text": [
      "100%|██████████| 205/205 [09:11<00:00,  2.69s/it]\n"
     ]
    },
    {
     "name": "stdout",
     "output_type": "stream",
     "text": [
      "train Loss: 1.6298 Acc: 0.5175\n"
     ]
    },
    {
     "name": "stderr",
     "output_type": "stream",
     "text": [
      "100%|██████████| 52/52 [01:58<00:00,  2.28s/it]\n"
     ]
    },
    {
     "name": "stdout",
     "output_type": "stream",
     "text": [
      "val Loss: 1.6454 Acc: 0.4878\n",
      "\n",
      "Epoch 5/15\n",
      "----------\n"
     ]
    },
    {
     "name": "stderr",
     "output_type": "stream",
     "text": [
      "100%|██████████| 205/205 [09:18<00:00,  2.72s/it]\n"
     ]
    },
    {
     "name": "stdout",
     "output_type": "stream",
     "text": [
      "train Loss: 1.5597 Acc: 0.5288\n"
     ]
    },
    {
     "name": "stderr",
     "output_type": "stream",
     "text": [
      "100%|██████████| 52/52 [02:02<00:00,  2.36s/it]\n"
     ]
    },
    {
     "name": "stdout",
     "output_type": "stream",
     "text": [
      "val Loss: 1.5851 Acc: 0.5229\n",
      "\n",
      "Epoch 6/15\n",
      "----------\n"
     ]
    },
    {
     "name": "stderr",
     "output_type": "stream",
     "text": [
      "100%|██████████| 205/205 [09:20<00:00,  2.73s/it]\n"
     ]
    },
    {
     "name": "stdout",
     "output_type": "stream",
     "text": [
      "train Loss: 1.5024 Acc: 0.5442\n"
     ]
    },
    {
     "name": "stderr",
     "output_type": "stream",
     "text": [
      "100%|██████████| 52/52 [02:00<00:00,  2.32s/it]\n"
     ]
    },
    {
     "name": "stdout",
     "output_type": "stream",
     "text": [
      "val Loss: 1.5417 Acc: 0.5355\n",
      "\n",
      "Epoch 7/15\n",
      "----------\n"
     ]
    },
    {
     "name": "stderr",
     "output_type": "stream",
     "text": [
      "100%|██████████| 205/205 [10:01<00:00,  2.93s/it]\n"
     ]
    },
    {
     "name": "stdout",
     "output_type": "stream",
     "text": [
      "train Loss: 1.4542 Acc: 0.5550\n"
     ]
    },
    {
     "name": "stderr",
     "output_type": "stream",
     "text": [
      "100%|██████████| 52/52 [02:03<00:00,  2.38s/it]\n"
     ]
    },
    {
     "name": "stdout",
     "output_type": "stream",
     "text": [
      "val Loss: 1.4997 Acc: 0.5352\n",
      "\n",
      "Epoch 8/15\n",
      "----------\n"
     ]
    },
    {
     "name": "stderr",
     "output_type": "stream",
     "text": [
      "100%|██████████| 205/205 [09:41<00:00,  2.84s/it]\n"
     ]
    },
    {
     "name": "stdout",
     "output_type": "stream",
     "text": [
      "train Loss: 1.4231 Acc: 0.5562\n"
     ]
    },
    {
     "name": "stderr",
     "output_type": "stream",
     "text": [
      "100%|██████████| 52/52 [02:08<00:00,  2.47s/it]\n"
     ]
    },
    {
     "name": "stdout",
     "output_type": "stream",
     "text": [
      "val Loss: 1.4706 Acc: 0.5401\n",
      "\n",
      "Epoch 9/15\n",
      "----------\n"
     ]
    },
    {
     "name": "stderr",
     "output_type": "stream",
     "text": [
      "100%|██████████| 205/205 [09:34<00:00,  2.80s/it]\n"
     ]
    },
    {
     "name": "stdout",
     "output_type": "stream",
     "text": [
      "train Loss: 1.3900 Acc: 0.5675\n"
     ]
    },
    {
     "name": "stderr",
     "output_type": "stream",
     "text": [
      "100%|██████████| 52/52 [02:01<00:00,  2.33s/it]\n"
     ]
    },
    {
     "name": "stdout",
     "output_type": "stream",
     "text": [
      "val Loss: 1.4300 Acc: 0.5496\n",
      "\n",
      "Epoch 10/15\n",
      "----------\n"
     ]
    },
    {
     "name": "stderr",
     "output_type": "stream",
     "text": [
      "100%|██████████| 205/205 [09:39<00:00,  2.83s/it]\n"
     ]
    },
    {
     "name": "stdout",
     "output_type": "stream",
     "text": [
      "train Loss: 1.3642 Acc: 0.5765\n"
     ]
    },
    {
     "name": "stderr",
     "output_type": "stream",
     "text": [
      "100%|██████████| 52/52 [02:00<00:00,  2.32s/it]\n"
     ]
    },
    {
     "name": "stdout",
     "output_type": "stream",
     "text": [
      "val Loss: 1.4183 Acc: 0.5575\n",
      "\n",
      "Epoch 11/15\n",
      "----------\n"
     ]
    },
    {
     "name": "stderr",
     "output_type": "stream",
     "text": [
      "100%|██████████| 205/205 [09:41<00:00,  2.83s/it]\n"
     ]
    },
    {
     "name": "stdout",
     "output_type": "stream",
     "text": [
      "train Loss: 1.3402 Acc: 0.5817\n"
     ]
    },
    {
     "name": "stderr",
     "output_type": "stream",
     "text": [
      "100%|██████████| 52/52 [02:01<00:00,  2.33s/it]\n"
     ]
    },
    {
     "name": "stdout",
     "output_type": "stream",
     "text": [
      "val Loss: 1.3782 Acc: 0.5731\n",
      "\n",
      "Epoch 12/15\n",
      "----------\n"
     ]
    },
    {
     "name": "stderr",
     "output_type": "stream",
     "text": [
      "100%|██████████| 205/205 [09:29<00:00,  2.78s/it]\n"
     ]
    },
    {
     "name": "stdout",
     "output_type": "stream",
     "text": [
      "train Loss: 1.3236 Acc: 0.5843\n"
     ]
    },
    {
     "name": "stderr",
     "output_type": "stream",
     "text": [
      "100%|██████████| 52/52 [02:01<00:00,  2.34s/it]\n"
     ]
    },
    {
     "name": "stdout",
     "output_type": "stream",
     "text": [
      "val Loss: 1.3657 Acc: 0.5734\n",
      "\n",
      "Epoch 13/15\n",
      "----------\n"
     ]
    },
    {
     "name": "stderr",
     "output_type": "stream",
     "text": [
      "100%|██████████| 205/205 [09:23<00:00,  2.75s/it]\n"
     ]
    },
    {
     "name": "stdout",
     "output_type": "stream",
     "text": [
      "train Loss: 1.2978 Acc: 0.5921\n"
     ]
    },
    {
     "name": "stderr",
     "output_type": "stream",
     "text": [
      "100%|██████████| 52/52 [02:07<00:00,  2.45s/it]\n"
     ]
    },
    {
     "name": "stdout",
     "output_type": "stream",
     "text": [
      "val Loss: 1.3523 Acc: 0.5643\n",
      "\n",
      "Epoch 14/15\n",
      "----------\n"
     ]
    },
    {
     "name": "stderr",
     "output_type": "stream",
     "text": [
      "100%|██████████| 205/205 [09:36<00:00,  2.81s/it]\n"
     ]
    },
    {
     "name": "stdout",
     "output_type": "stream",
     "text": [
      "train Loss: 1.2782 Acc: 0.5963\n"
     ]
    },
    {
     "name": "stderr",
     "output_type": "stream",
     "text": [
      "100%|██████████| 52/52 [02:01<00:00,  2.33s/it]\n"
     ]
    },
    {
     "name": "stdout",
     "output_type": "stream",
     "text": [
      "val Loss: 1.3408 Acc: 0.5802\n",
      "\n",
      "Epoch 15/15\n",
      "----------\n"
     ]
    },
    {
     "name": "stderr",
     "output_type": "stream",
     "text": [
      "100%|██████████| 205/205 [09:26<00:00,  2.77s/it]\n"
     ]
    },
    {
     "name": "stdout",
     "output_type": "stream",
     "text": [
      "train Loss: 1.2663 Acc: 0.5995\n"
     ]
    },
    {
     "name": "stderr",
     "output_type": "stream",
     "text": [
      "100%|██████████| 52/52 [01:56<00:00,  2.25s/it]\n"
     ]
    },
    {
     "name": "stdout",
     "output_type": "stream",
     "text": [
      "val Loss: 1.3058 Acc: 0.5958\n",
      "\n",
      "Training complete in 171m 47s\n",
      "Best val Acc: 0.5958\n",
      "Validation Metrics for CNN:\n",
      "Accuracy: 0.5808, Precision: 0.5815, Recall: 0.5808\n"
     ]
    },
    {
     "data": {
      "image/png": "[encoded data removed]",
      "text/plain": [
       "<Figure size 1200x500 with 2 Axes>"
      ]
     },
     "metadata": {},
     "output_type": "display_data"
    }
   ],
   "source": [
    "if __name__ == \"__main__\":\n",
    "    # Try with fewer epochs but higher learning rate\n",
    "    cnn_model, cnn_trainer = run_experiment(\n",
    "        model_type='cnn', \n",
    "        num_epochs=15, \n",
    "        learning_rate=2e-3\n",
    "    )"
   ]
  },
  {
   "cell_type": "code",
   "execution_count": 12,
   "metadata": {},
   "outputs": [
    {
     "name": "stdout",
     "output_type": "stream",
     "text": [
      "Training SOTA Transformer model...\n",
      "Epoch 1/15\n",
      "----------\n"
     ]
    },
    {
     "name": "stderr",
     "output_type": "stream",
     "text": [
      "100%|██████████| 205/205 [08:33<00:00,  2.50s/it]\n"
     ]
    },
    {
     "name": "stdout",
     "output_type": "stream",
     "text": [
      "train Loss: 1.7575 Acc: 0.4073\n"
     ]
    },
    {
     "name": "stderr",
     "output_type": "stream",
     "text": [
      "100%|██████████| 52/52 [02:18<00:00,  2.66s/it]\n"
     ]
    },
    {
     "name": "stdout",
     "output_type": "stream",
     "text": [
      "val Loss: 1.3378 Acc: 0.5734\n",
      "\n",
      "Epoch 2/15\n",
      "----------\n"
     ]
    },
    {
     "name": "stderr",
     "output_type": "stream",
     "text": [
      "100%|██████████| 205/205 [08:48<00:00,  2.58s/it]\n"
     ]
    },
    {
     "name": "stdout",
     "output_type": "stream",
     "text": [
      "train Loss: 1.2215 Acc: 0.6081\n"
     ]
    },
    {
     "name": "stderr",
     "output_type": "stream",
     "text": [
      "100%|██████████| 52/52 [02:13<00:00,  2.56s/it]\n"
     ]
    },
    {
     "name": "stdout",
     "output_type": "stream",
     "text": [
      "val Loss: 1.1217 Acc: 0.6463\n",
      "\n",
      "Epoch 3/15\n",
      "----------\n"
     ]
    },
    {
     "name": "stderr",
     "output_type": "stream",
     "text": [
      "100%|██████████| 205/205 [09:08<00:00,  2.68s/it]\n"
     ]
    },
    {
     "name": "stdout",
     "output_type": "stream",
     "text": [
      "train Loss: 1.0590 Acc: 0.6647\n"
     ]
    },
    {
     "name": "stderr",
     "output_type": "stream",
     "text": [
      "100%|██████████| 52/52 [02:24<00:00,  2.78s/it]\n"
     ]
    },
    {
     "name": "stdout",
     "output_type": "stream",
     "text": [
      "val Loss: 1.0101 Acc: 0.6717\n",
      "\n",
      "Epoch 4/15\n",
      "----------\n"
     ]
    },
    {
     "name": "stderr",
     "output_type": "stream",
     "text": [
      "100%|██████████| 205/205 [09:27<00:00,  2.77s/it]\n"
     ]
    },
    {
     "name": "stdout",
     "output_type": "stream",
     "text": [
      "train Loss: 0.9606 Acc: 0.6947\n"
     ]
    },
    {
     "name": "stderr",
     "output_type": "stream",
     "text": [
      "100%|██████████| 52/52 [02:20<00:00,  2.71s/it]\n"
     ]
    },
    {
     "name": "stdout",
     "output_type": "stream",
     "text": [
      "val Loss: 0.9275 Acc: 0.6940\n",
      "\n",
      "Epoch 5/15\n",
      "----------\n"
     ]
    },
    {
     "name": "stderr",
     "output_type": "stream",
     "text": [
      "100%|██████████| 205/205 [09:32<00:00,  2.79s/it]\n"
     ]
    },
    {
     "name": "stdout",
     "output_type": "stream",
     "text": [
      "train Loss: 0.8969 Acc: 0.7170\n"
     ]
    },
    {
     "name": "stderr",
     "output_type": "stream",
     "text": [
      "100%|██████████| 52/52 [02:23<00:00,  2.76s/it]\n"
     ]
    },
    {
     "name": "stdout",
     "output_type": "stream",
     "text": [
      "val Loss: 0.8718 Acc: 0.7209\n",
      "\n",
      "Epoch 6/15\n",
      "----------\n"
     ]
    },
    {
     "name": "stderr",
     "output_type": "stream",
     "text": [
      "100%|██████████| 205/205 [09:42<00:00,  2.84s/it]\n"
     ]
    },
    {
     "name": "stdout",
     "output_type": "stream",
     "text": [
      "train Loss: 0.8403 Acc: 0.7367\n"
     ]
    },
    {
     "name": "stderr",
     "output_type": "stream",
     "text": [
      "100%|██████████| 52/52 [02:29<00:00,  2.87s/it]\n"
     ]
    },
    {
     "name": "stdout",
     "output_type": "stream",
     "text": [
      "val Loss: 0.8268 Acc: 0.7295\n",
      "\n",
      "Epoch 7/15\n",
      "----------\n"
     ]
    },
    {
     "name": "stderr",
     "output_type": "stream",
     "text": [
      "100%|██████████| 205/205 [09:59<00:00,  2.92s/it]\n"
     ]
    },
    {
     "name": "stdout",
     "output_type": "stream",
     "text": [
      "train Loss: 0.7964 Acc: 0.7483\n"
     ]
    },
    {
     "name": "stderr",
     "output_type": "stream",
     "text": [
      "100%|██████████| 52/52 [02:30<00:00,  2.89s/it]\n"
     ]
    },
    {
     "name": "stdout",
     "output_type": "stream",
     "text": [
      "val Loss: 0.7982 Acc: 0.7417\n",
      "\n",
      "Epoch 8/15\n",
      "----------\n"
     ]
    },
    {
     "name": "stderr",
     "output_type": "stream",
     "text": [
      "100%|██████████| 205/205 [09:55<00:00,  2.91s/it]\n"
     ]
    },
    {
     "name": "stdout",
     "output_type": "stream",
     "text": [
      "train Loss: 0.7658 Acc: 0.7598\n"
     ]
    },
    {
     "name": "stderr",
     "output_type": "stream",
     "text": [
      "100%|██████████| 52/52 [02:26<00:00,  2.82s/it]\n"
     ]
    },
    {
     "name": "stdout",
     "output_type": "stream",
     "text": [
      "val Loss: 0.7596 Acc: 0.7515\n",
      "\n",
      "Epoch 9/15\n",
      "----------\n"
     ]
    },
    {
     "name": "stderr",
     "output_type": "stream",
     "text": [
      "100%|██████████| 205/205 [09:45<00:00,  2.86s/it]\n"
     ]
    },
    {
     "name": "stdout",
     "output_type": "stream",
     "text": [
      "train Loss: 0.7343 Acc: 0.7706\n"
     ]
    },
    {
     "name": "stderr",
     "output_type": "stream",
     "text": [
      "100%|██████████| 52/52 [02:26<00:00,  2.82s/it]\n"
     ]
    },
    {
     "name": "stdout",
     "output_type": "stream",
     "text": [
      "val Loss: 0.7301 Acc: 0.7674\n",
      "\n",
      "Epoch 10/15\n",
      "----------\n"
     ]
    },
    {
     "name": "stderr",
     "output_type": "stream",
     "text": [
      "100%|██████████| 205/205 [09:59<00:00,  2.93s/it]\n"
     ]
    },
    {
     "name": "stdout",
     "output_type": "stream",
     "text": [
      "train Loss: 0.7100 Acc: 0.7792\n"
     ]
    },
    {
     "name": "stderr",
     "output_type": "stream",
     "text": [
      "100%|██████████| 52/52 [02:40<00:00,  3.08s/it]\n"
     ]
    },
    {
     "name": "stdout",
     "output_type": "stream",
     "text": [
      "val Loss: 0.7147 Acc: 0.7739\n",
      "\n",
      "Epoch 11/15\n",
      "----------\n"
     ]
    },
    {
     "name": "stderr",
     "output_type": "stream",
     "text": [
      "100%|██████████| 205/205 [10:17<00:00,  3.01s/it]\n"
     ]
    },
    {
     "name": "stdout",
     "output_type": "stream",
     "text": [
      "train Loss: 0.6803 Acc: 0.7901\n"
     ]
    },
    {
     "name": "stderr",
     "output_type": "stream",
     "text": [
      "100%|██████████| 52/52 [02:10<00:00,  2.52s/it]\n"
     ]
    },
    {
     "name": "stdout",
     "output_type": "stream",
     "text": [
      "val Loss: 0.6881 Acc: 0.7803\n",
      "\n",
      "Epoch 12/15\n",
      "----------\n"
     ]
    },
    {
     "name": "stderr",
     "output_type": "stream",
     "text": [
      "100%|██████████| 205/205 [09:08<00:00,  2.67s/it]\n"
     ]
    },
    {
     "name": "stdout",
     "output_type": "stream",
     "text": [
      "train Loss: 0.6666 Acc: 0.7930\n"
     ]
    },
    {
     "name": "stderr",
     "output_type": "stream",
     "text": [
      "100%|██████████| 52/52 [02:15<00:00,  2.60s/it]\n"
     ]
    },
    {
     "name": "stdout",
     "output_type": "stream",
     "text": [
      "val Loss: 0.6769 Acc: 0.7849\n",
      "\n",
      "Epoch 13/15\n",
      "----------\n"
     ]
    },
    {
     "name": "stderr",
     "output_type": "stream",
     "text": [
      "100%|██████████| 205/205 [09:07<00:00,  2.67s/it]\n"
     ]
    },
    {
     "name": "stdout",
     "output_type": "stream",
     "text": [
      "train Loss: 0.6502 Acc: 0.7989\n"
     ]
    },
    {
     "name": "stderr",
     "output_type": "stream",
     "text": [
      "100%|██████████| 52/52 [02:15<00:00,  2.61s/it]\n"
     ]
    },
    {
     "name": "stdout",
     "output_type": "stream",
     "text": [
      "val Loss: 0.6498 Acc: 0.7913\n",
      "\n",
      "Epoch 14/15\n",
      "----------\n"
     ]
    },
    {
     "name": "stderr",
     "output_type": "stream",
     "text": [
      "100%|██████████| 205/205 [09:38<00:00,  2.82s/it]\n"
     ]
    },
    {
     "name": "stdout",
     "output_type": "stream",
     "text": [
      "train Loss: 0.6323 Acc: 0.8061\n"
     ]
    },
    {
     "name": "stderr",
     "output_type": "stream",
     "text": [
      "100%|██████████| 52/52 [02:20<00:00,  2.71s/it]\n"
     ]
    },
    {
     "name": "stdout",
     "output_type": "stream",
     "text": [
      "val Loss: 0.6496 Acc: 0.7904\n",
      "\n",
      "Epoch 15/15\n",
      "----------\n"
     ]
    },
    {
     "name": "stderr",
     "output_type": "stream",
     "text": [
      "100%|██████████| 205/205 [09:21<00:00,  2.74s/it]\n"
     ]
    },
    {
     "name": "stdout",
     "output_type": "stream",
     "text": [
      "train Loss: 0.6202 Acc: 0.8097\n"
     ]
    },
    {
     "name": "stderr",
     "output_type": "stream",
     "text": [
      "100%|██████████| 52/52 [02:19<00:00,  2.68s/it]\n"
     ]
    },
    {
     "name": "stdout",
     "output_type": "stream",
     "text": [
      "val Loss: 0.6278 Acc: 0.8045\n",
      "\n",
      "Training complete in 178m 3s\n",
      "Best val Acc: 0.8045\n",
      "Validation Metrics for TRANSFORMER:\n",
      "Accuracy: 0.8005, Precision: 0.8030, Recall: 0.8005\n"
     ]
    },
    {
     "data": {
      "image/png": "[encoded data removed]",
      "text/plain": [
       "<Figure size 1200x500 with 2 Axes>"
      ]
     },
     "metadata": {},
     "output_type": "display_data"
    }
   ],
   "source": [
    "transformer_model, transformer_trainer = run_experiment(\n",
    "        model_type='transformer', \n",
    "        num_epochs=15, \n",
    "        learning_rate=2e-3\n",
    ")\n",
    "# Saving the transformer model\n",
    "torch.save(transformer_model.state_dict(), \"transformer_model.pth\")\n"
   ]
  },
  {
   "cell_type": "code",
   "execution_count": 15,
   "metadata": {},
   "outputs": [
    {
     "name": "stderr",
     "output_type": "stream",
     "text": [
      "100%|██████████| 55/55 [02:18<00:00,  2.52s/it]"
     ]
    },
    {
     "name": "stdout",
     "output_type": "stream",
     "text": [
      "The predictions using Tranformer (vit_base_patch16_224) model\n",
      "\n"
     ]
    },
    {
     "name": "stderr",
     "output_type": "stream",
     "text": [
      "\n"
     ]
    },
    {
     "data": {
      "text/html": [
       "<div>\n",
       "<style scoped>\n",
       "    .dataframe tbody tr th:only-of-type {\n",
       "        vertical-align: middle;\n",
       "    }\n",
       "\n",
       "    .dataframe tbody tr th {\n",
       "        vertical-align: top;\n",
       "    }\n",
       "\n",
       "    .dataframe thead th {\n",
       "        text-align: right;\n",
       "    }\n",
       "</style>\n",
       "<table border=\"1\" class=\"dataframe\">\n",
       "  <thead>\n",
       "    <tr style=\"text-align: right;\">\n",
       "      <th></th>\n",
       "      <th>image_id</th>\n",
       "      <th>predicted_label</th>\n",
       "    </tr>\n",
       "  </thead>\n",
       "  <tbody>\n",
       "    <tr>\n",
       "      <th>0</th>\n",
       "      <td>202919.jpg</td>\n",
       "      <td>hispa</td>\n",
       "    </tr>\n",
       "    <tr>\n",
       "      <th>1</th>\n",
       "      <td>200868.jpg</td>\n",
       "      <td>normal</td>\n",
       "    </tr>\n",
       "    <tr>\n",
       "      <th>2</th>\n",
       "      <td>200698.jpg</td>\n",
       "      <td>tungro</td>\n",
       "    </tr>\n",
       "    <tr>\n",
       "      <th>3</th>\n",
       "      <td>200840.jpg</td>\n",
       "      <td>normal</td>\n",
       "    </tr>\n",
       "    <tr>\n",
       "      <th>4</th>\n",
       "      <td>201586.jpg</td>\n",
       "      <td>brown_spot</td>\n",
       "    </tr>\n",
       "    <tr>\n",
       "      <th>...</th>\n",
       "      <td>...</td>\n",
       "      <td>...</td>\n",
       "    </tr>\n",
       "    <tr>\n",
       "      <th>3464</th>\n",
       "      <td>200681.jpg</td>\n",
       "      <td>blast</td>\n",
       "    </tr>\n",
       "    <tr>\n",
       "      <th>3465</th>\n",
       "      <td>200871.jpg</td>\n",
       "      <td>tungro</td>\n",
       "    </tr>\n",
       "    <tr>\n",
       "      <th>3466</th>\n",
       "      <td>202900.jpg</td>\n",
       "      <td>bacterial_panicle_blight</td>\n",
       "    </tr>\n",
       "    <tr>\n",
       "      <th>3467</th>\n",
       "      <td>202914.jpg</td>\n",
       "      <td>blast</td>\n",
       "    </tr>\n",
       "    <tr>\n",
       "      <th>3468</th>\n",
       "      <td>200865.jpg</td>\n",
       "      <td>brown_spot</td>\n",
       "    </tr>\n",
       "  </tbody>\n",
       "</table>\n",
       "<p>3469 rows × 2 columns</p>\n",
       "</div>"
      ],
      "text/plain": [
       "        image_id           predicted_label\n",
       "0     202919.jpg                     hispa\n",
       "1     200868.jpg                    normal\n",
       "2     200698.jpg                    tungro\n",
       "3     200840.jpg                    normal\n",
       "4     201586.jpg                brown_spot\n",
       "...          ...                       ...\n",
       "3464  200681.jpg                     blast\n",
       "3465  200871.jpg                    tungro\n",
       "3466  202900.jpg  bacterial_panicle_blight\n",
       "3467  202914.jpg                     blast\n",
       "3468  200865.jpg                brown_spot\n",
       "\n",
       "[3469 rows x 2 columns]"
      ]
     },
     "execution_count": 15,
     "metadata": {},
     "output_type": "execute_result"
    }
   ],
   "source": [
    "class TestDataset(Dataset):\n",
    "    def __init__(self, root_dir, transform=None):\n",
    "        self.root_dir = root_dir\n",
    "        self.transform = transform\n",
    "        # List only .jpg files (adjust if your images have a different extension)\n",
    "        self.image_files = [f for f in os.listdir(root_dir) if f.lower().endswith('.jpg')]\n",
    "\n",
    "    def __len__(self):\n",
    "        return len(self.image_files)\n",
    "\n",
    "    def __getitem__(self, idx):\n",
    "        img_name = self.image_files[idx]\n",
    "        img_path = os.path.join(self.root_dir, img_name)\n",
    "        image = Image.open(img_path).convert(\"RGB\")\n",
    "        if self.transform:\n",
    "            image = self.transform(image)\n",
    "        return image, img_name\n",
    "\n",
    "# Create the test dataset and DataLoader (using the same val_transforms as before)\n",
    "test_dataset = TestDataset(\"test_images\", transform=val_transforms)\n",
    "test_loader = DataLoader(\n",
    "    test_dataset, \n",
    "    batch_size=batch_size, \n",
    "    shuffle=False, \n",
    "    num_workers=num_workers,\n",
    "    pin_memory=True\n",
    ")\n",
    "\n",
    "def generate_predictions(model, dataloader):\n",
    "    model.eval()\n",
    "    image_ids = []\n",
    "    predictions = []\n",
    "    \n",
    "    with torch.no_grad():\n",
    "        for inputs, img_names in tqdm(dataloader):\n",
    "            inputs = inputs.to(device)\n",
    "            outputs = model(inputs)\n",
    "            _, preds = torch.max(outputs, 1)\n",
    "            preds = preds.cpu().numpy()\n",
    "            image_ids.extend(img_names)\n",
    "            predictions.extend(preds)\n",
    "    \n",
    "    # Map predicted indices to class labels using the training dataset's mapping\n",
    "    idx_to_class = {v: k for k, v in combined_train_dataset.datasets[0].class_to_idx.items()}\n",
    "    pred_labels = [idx_to_class[p] for p in predictions]\n",
    "    \n",
    "    # Create a DataFrame and save the results as CSV\n",
    "    df = pd.DataFrame({\"image_id\": image_ids, \"predicted_label\": pred_labels})\n",
    "    return df\n",
    "\n",
    "# Recreate the model architecture\n",
    "transformer_model = get_transformer_model(num_classes=num_classes, feature_extract=True)\n",
    "# Load the saved weights (adjust map_location if needed)\n",
    "transformer_model.load_state_dict(torch.load(\"transformer_model.pth\", map_location=device))\n",
    "transformer_model.to(device)\n",
    "\n",
    "\n",
    "# predictions for both the CNN and Transformer models\n",
    "df1 = generate_predictions(transformer_model, test_loader)\n",
    "\n",
    "print(\"The predictions using Tranformer (vit_base_patch16_224) model\\n\")\n",
    "df1.to_csv(\"Test_Labels-2.csv\")\n",
    "df1\n",
    "\n"
   ]
  }
 ],
 "metadata": {
  "kernelspec": {
   "display_name": "Python 3",
   "language": "python",
   "name": "python3"
  },
  "language_info": {
   "codemirror_mode": {
    "name": "ipython",
    "version": 3
   },
   "file_extension": ".py",
   "mimetype": "text/x-python",
   "name": "python",
   "nbconvert_exporter": "python",
   "pygments_lexer": "ipython3",
   "version": "3.11.1"
  }
 },
 "nbformat": 4,
 "nbformat_minor": 2
}
